{
 "cells": [
  {
   "cell_type": "code",
   "execution_count": 1,
   "id": "5a1eff08",
   "metadata": {},
   "outputs": [],
   "source": [
    "using JuMP\n",
    "using Gurobi\n",
    "import Printf"
   ]
  },
  {
   "cell_type": "code",
   "execution_count": 2,
   "id": "4c5c80c2",
   "metadata": {},
   "outputs": [
    {
     "data": {
      "text/plain": [
       "-29"
      ]
     },
     "metadata": {},
     "output_type": "display_data"
    }
   ],
   "source": [
    "G = [\n",
    "    0 3 2 2 0 0 0 0\n",
    "    0 0 0 0 5 1 0 0\n",
    "    0 0 0 0 1 3 1 0\n",
    "    0 0 0 0 0 1 0 0\n",
    "    0 0 0 0 0 0 0 4\n",
    "    0 0 0 0 0 0 0 2\n",
    "    0 0 0 0 0 0 0 4\n",
    "    0 0 0 0 0 0 0 0\n",
    "]\n",
    "n = size(G, 1)\n",
    "M = -sum(G)"
   ]
  },
  {
   "cell_type": "code",
   "execution_count": 3,
   "id": "b9b1d4db",
   "metadata": {},
   "outputs": [
    {
     "data": {
      "text/plain": [
       "optimal_flows (generic function with 1 method)"
      ]
     },
     "metadata": {},
     "output_type": "display_data"
    }
   ],
   "source": [
    "function optimal_flows(x)\n",
    "    return [(i, j) => x[i, j] for i in 1:n for j in 1:n if x[i, j] > 0]\n",
    "end"
   ]
  },
  {
   "cell_type": "code",
   "execution_count": 4,
   "id": "06eb4dec",
   "metadata": {},
   "outputs": [
    {
     "name": "stdout",
     "output_type": "stream",
     "text": [
      "Set parameter Username\n",
      "Set parameter LicenseID to value 2646351\n",
      "Academic license - for non-commercial use only - expires 2026-04-02\n"
     ]
    },
    {
     "data": {
      "text/plain": [
       "A JuMP Model\n",
       "├ solver: Gurobi\n",
       "├ objective_sense: MIN_SENSE\n",
       "│ └ objective_function_type: AffExpr\n",
       "├ num_variables: 65\n",
       "├ num_constraints: 66\n",
       "│ ├ AffExpr in MOI.LessThan{Float64}: 1\n",
       "│ ├ VariableRef in MOI.GreaterThan{Float64}: 1\n",
       "│ └ VariableRef in MOI.ZeroOne: 64\n",
       "└ Names registered in the model\n",
       "  └ :x, :θ"
      ]
     },
     "metadata": {},
     "output_type": "display_data"
    }
   ],
   "source": [
    "model = Model(Gurobi.Optimizer)\n",
    "set_silent(model)\n",
    "@variable(model, x[1:n, 1:n], Bin)\n",
    "@variable(model, θ >= M)\n",
    "@constraint(model, sum(x) <= 11)\n",
    "@objective(model, Min, 0.1 * sum(x) + θ)\n",
    "model"
   ]
  },
  {
   "cell_type": "code",
   "execution_count": 7,
   "id": "9d49aa21",
   "metadata": {},
   "outputs": [
    {
     "name": "stdout",
     "output_type": "stream",
     "text": [
      "Set parameter Username\n",
      "Set parameter LicenseID to value 2646351\n",
      "Academic license - for non-commercial use only - expires 2026-04-02\n"
     ]
    },
    {
     "data": {
      "text/plain": [
       "A JuMP Model\n",
       "├ solver: Gurobi\n",
       "├ objective_sense: MIN_SENSE\n",
       "│ └ objective_function_type: AffExpr\n",
       "├ num_variables: 128\n",
       "├ num_constraints: 135\n",
       "│ ├ AffExpr in MOI.EqualTo{Float64}: 6\n",
       "│ ├ AffExpr in MOI.GreaterThan{Float64}: 1\n",
       "│ ├ AffExpr in MOI.LessThan{Float64}: 64\n",
       "│ └ VariableRef in MOI.GreaterThan{Float64}: 64\n",
       "└ Names registered in the model\n",
       "  └ :x_copy, :y"
      ]
     },
     "metadata": {},
     "output_type": "display_data"
    }
   ],
   "source": [
    "subproblem = Model(Gurobi.Optimizer)\n",
    "set_silent(subproblem)\n",
    "# We need to turn presolve off so that HiGHS will return an infeasibility certificate.\n",
    "# set_attribute(subproblem, \"presolve\", \"off\")\n",
    "@variable(subproblem, x_copy[i in 1:n, j in 1:n])\n",
    "@variable(subproblem, y[1:n, 1:n] >= 0)\n",
    "@constraint(subproblem, sum(y) >= 1)  # <--- THIS IS NEW\n",
    "@constraint(subproblem, [i = 1:n, j = 1:n], y[i, j] <= G[i, j] * x_copy[i, j])\n",
    "@constraint(subproblem, [i = 2:n-1], sum(y[i, :]) == sum(y[:, i]))\n",
    "@objective(subproblem, Min, -sum(y[1, :]))\n",
    "subproblem"
   ]
  },
  {
   "cell_type": "code",
   "execution_count": 8,
   "id": "feb4b8c6",
   "metadata": {},
   "outputs": [
    {
     "data": {
      "text/plain": [
       "solve_subproblem_with_feasibility (generic function with 1 method)"
      ]
     },
     "metadata": {},
     "output_type": "display_data"
    }
   ],
   "source": [
    "function solve_subproblem_with_feasibility(model, x)\n",
    "    fix.(model[:x_copy], x)\n",
    "    optimize!(model)\n",
    "    if is_solved_and_feasible(model; dual = true)\n",
    "        return (\n",
    "            is_feasible = true,\n",
    "            obj = objective_value(model),\n",
    "            y = value.(model[:y]),\n",
    "            π = reduced_cost.(model[:x_copy]),\n",
    "        )\n",
    "    end\n",
    "    return (\n",
    "        is_feasible = false,\n",
    "        v = dual_objective_value(model),\n",
    "        u = reduced_cost.(model[:x_copy]),\n",
    "    )\n",
    "end"
   ]
  },
  {
   "cell_type": "code",
   "execution_count": 10,
   "id": "2dd0e112",
   "metadata": {},
   "outputs": [
    {
     "name": "stdout",
     "output_type": "stream",
     "text": [
      "Iteration  Lower Bound  Upper Bound          Gap\n"
     ]
    },
    {
     "ename": "MathOptInterface.ResultIndexBoundsError{MathOptInterface.DualObjectiveValue}",
     "evalue": "Result index of attribute MathOptInterface.DualObjectiveValue(1) out of bounds. There are currently 0 solution(s) in the model.",
     "output_type": "error",
     "traceback": [
      "Result index of attribute MathOptInterface.DualObjectiveValue(1) out of bounds. There are currently 0 solution(s) in the model.\n",
      "\n",
      "Stacktrace:\n",
      "  [1] check_result_index_bounds\n",
      "    @ C:\\Users\\YUAN\\.julia\\packages\\MathOptInterface\\jGuEH\\src\\attributes.jl:207 [inlined]\n",
      "  [2] get\n",
      "    @ C:\\Users\\YUAN\\.julia\\packages\\Gurobi\\yMu3Y\\src\\MOI_wrapper\\MOI_wrapper.jl:3371 [inlined]\n",
      "  [3] get\n",
      "    @ C:\\Users\\YUAN\\.julia\\packages\\MathOptInterface\\jGuEH\\src\\Bridges\\bridge_optimizer.jl:891 [inlined]\n",
      "  [4] _get_model_attribute(model::MathOptInterface.Utilities.CachingOptimizer{MathOptInterface.Bridges.LazyBridgeOptimizer{Gurobi.Optimizer}, MathOptInterface.Utilities.UniversalFallback{MathOptInterface.Utilities.Model{Float64}}}, attr::MathOptInterface.DualObjectiveValue)\n",
      "    @ MathOptInterface.Utilities C:\\Users\\YUAN\\.julia\\packages\\MathOptInterface\\jGuEH\\src\\Utilities\\cachingoptimizer.jl:820\n",
      "  [5] get\n",
      "    @ C:\\Users\\YUAN\\.julia\\packages\\MathOptInterface\\jGuEH\\src\\Utilities\\cachingoptimizer.jl:871 [inlined]\n",
      "  [6] _moi_get_result(model::MathOptInterface.Utilities.CachingOptimizer{MathOptInterface.Bridges.LazyBridgeOptimizer{Gurobi.Optimizer}, MathOptInterface.Utilities.UniversalFallback{MathOptInterface.Utilities.Model{Float64}}}, args::MathOptInterface.DualObjectiveValue)\n",
      "    @ JuMP C:\\Users\\YUAN\\.julia\\packages\\JuMP\\RGIK3\\src\\optimizer_interface.jl:1137\n",
      "  [7] get(model::Model, attr::MathOptInterface.DualObjectiveValue)\n",
      "    @ JuMP C:\\Users\\YUAN\\.julia\\packages\\JuMP\\RGIK3\\src\\optimizer_interface.jl:1157\n",
      "  [8] dual_objective_value(model::Model; result::Int64)\n",
      "    @ JuMP C:\\Users\\YUAN\\.julia\\packages\\JuMP\\RGIK3\\src\\objective.jl:167\n",
      "  [9] dual_objective_value\n",
      "    @ C:\\Users\\YUAN\\.julia\\packages\\JuMP\\RGIK3\\src\\objective.jl:163 [inlined]\n",
      " [10] solve_subproblem_with_feasibility(model::Model, x::Matrix{Float64})\n",
      "    @ Main d:\\GithubClonefiles\\module_unitcommitment\\debug\\jl_notebook_cell_df34fa98e69747e1a8f8a730347b8e2f_W6sZmlsZQ==.jl:12\n",
      " [11] top-level scope\n",
      "    @ d:\\GithubClonefiles\\module_unitcommitment\\debug\\jl_notebook_cell_df34fa98e69747e1a8f8a730347b8e2f_X10sZmlsZQ==.jl:8"
     ]
    }
   ],
   "source": [
    "MAXIMUM_ITERATIONS = 100\n",
    "println(\"Iteration  Lower Bound  Upper Bound          Gap\")\n",
    "for k in 1:MAXIMUM_ITERATIONS\n",
    "    optimize!(model)\n",
    "    assert_is_solved_and_feasible(model)\n",
    "    lower_bound = objective_value(model)\n",
    "    x_k = value.(x)\n",
    "    ret = solve_subproblem_with_feasibility(subproblem, x_k)\n",
    "    if ret.is_feasible\n",
    "        # Benders Optimality Cuts\n",
    "        upper_bound = (objective_value(model) - value(θ)) + ret.obj\n",
    "        gap = abs(upper_bound - lower_bound) / abs(upper_bound)\n",
    "        print_iteration(k, lower_bound, upper_bound, gap)\n",
    "        if gap < ABSOLUTE_OPTIMALITY_GAP\n",
    "            println(\"Terminating with the optimal solution\")\n",
    "            break\n",
    "        end\n",
    "        @constraint(model, θ >= ret.obj + sum(ret.π .* (x .- x_k)))\n",
    "    else\n",
    "        # Benders Feasibility Cuts\n",
    "        cut = @constraint(model, ret.v + sum(ret.u .* (x .- x_k)) <= 0)\n",
    "        @info \"Adding the feasibility cut $(cut)\"\n",
    "    end\n",
    "end"
   ]
  }
 ],
 "metadata": {
  "kernelspec": {
   "display_name": "Julia 1.11.4",
   "language": "julia",
   "name": "julia-1.11"
  },
  "language_info": {
   "file_extension": ".jl",
   "mimetype": "application/julia",
   "name": "julia",
   "version": "1.11.4"
  }
 },
 "nbformat": 4,
 "nbformat_minor": 5
}
